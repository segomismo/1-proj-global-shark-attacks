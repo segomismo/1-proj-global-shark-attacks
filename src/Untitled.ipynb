{
 "cells": [
  {
   "cell_type": "code",
   "execution_count": 2,
   "id": "a24b14c1",
   "metadata": {},
   "outputs": [
    {
     "data": {
      "text/html": [
       "<div>\n",
       "<style scoped>\n",
       "    .dataframe tbody tr th:only-of-type {\n",
       "        vertical-align: middle;\n",
       "    }\n",
       "\n",
       "    .dataframe tbody tr th {\n",
       "        vertical-align: top;\n",
       "    }\n",
       "\n",
       "    .dataframe thead th {\n",
       "        text-align: right;\n",
       "    }\n",
       "</style>\n",
       "<table border=\"1\" class=\"dataframe\">\n",
       "  <thead>\n",
       "    <tr style=\"text-align: right;\">\n",
       "      <th></th>\n",
       "      <th>count</th>\n",
       "      <th>mean</th>\n",
       "      <th>std</th>\n",
       "      <th>min</th>\n",
       "      <th>25%</th>\n",
       "      <th>50%</th>\n",
       "      <th>75%</th>\n",
       "      <th>max</th>\n",
       "    </tr>\n",
       "  </thead>\n",
       "  <tbody>\n",
       "    <tr>\n",
       "      <th>Year</th>\n",
       "      <td>6300.0</td>\n",
       "      <td>1927.272381</td>\n",
       "      <td>281.116308</td>\n",
       "      <td>0.0</td>\n",
       "      <td>1942.0</td>\n",
       "      <td>1977.0</td>\n",
       "      <td>2005.0</td>\n",
       "      <td>2018.0</td>\n",
       "    </tr>\n",
       "    <tr>\n",
       "      <th>original order</th>\n",
       "      <td>6309.0</td>\n",
       "      <td>3155.999683</td>\n",
       "      <td>1821.396206</td>\n",
       "      <td>2.0</td>\n",
       "      <td>1579.0</td>\n",
       "      <td>3156.0</td>\n",
       "      <td>4733.0</td>\n",
       "      <td>6310.0</td>\n",
       "    </tr>\n",
       "  </tbody>\n",
       "</table>\n",
       "</div>"
      ],
      "text/plain": [
       "                 count         mean          std  min     25%     50%     75%  \\\n",
       "Year            6300.0  1927.272381   281.116308  0.0  1942.0  1977.0  2005.0   \n",
       "original order  6309.0  3155.999683  1821.396206  2.0  1579.0  3156.0  4733.0   \n",
       "\n",
       "                   max  \n",
       "Year            2018.0  \n",
       "original order  6310.0  "
      ]
     },
     "execution_count": 2,
     "metadata": {},
     "output_type": "execute_result"
    }
   ],
   "source": [
    "import pandas as pd\n",
    "pd.set_option('display.max_columns', None)\n",
    "import numpy as np\n",
    "import re\n",
    "\n",
    "import pylab as plt\n",
    "import seaborn as sns\n",
    "\n",
    "tiburones_ori = pd.read_csv(\"../data/attacks.csv\", encoding= \"ISO-8859-1\")\n",
    "\n",
    "tiburones = tiburones_ori.copy()\n",
    "\n",
    "tiburones.describe().T\n",
    "\n"
   ]
  },
  {
   "cell_type": "code",
   "execution_count": 3,
   "id": "eb3dd9c6",
   "metadata": {},
   "outputs": [
    {
     "data": {
      "text/plain": [
       "Index(['Case Number', 'Date', 'Year', 'Type', 'Country', 'Area', 'Location',\n",
       "       'Activity', 'Name', 'Sex ', 'Age', 'Injury', 'Fatal (Y/N)', 'Time',\n",
       "       'Species ', 'Investigator or Source', 'pdf', 'href formula', 'href',\n",
       "       'Case Number.1', 'Case Number.2', 'original order', 'Unnamed: 22',\n",
       "       'Unnamed: 23'],\n",
       "      dtype='object')"
      ]
     },
     "execution_count": 3,
     "metadata": {},
     "output_type": "execute_result"
    }
   ],
   "source": [
    "tiburones.columns"
   ]
  },
  {
   "cell_type": "code",
   "execution_count": 4,
   "id": "8c6f2af3",
   "metadata": {},
   "outputs": [
    {
     "data": {
      "text/plain": [
       "(25723, 24)"
      ]
     },
     "execution_count": 4,
     "metadata": {},
     "output_type": "execute_result"
    }
   ],
   "source": [
    "tiburones.shape"
   ]
  },
  {
   "cell_type": "code",
   "execution_count": 5,
   "id": "f8ca3b0e",
   "metadata": {},
   "outputs": [
    {
     "data": {
      "text/plain": [
       "<bound method DataFrame.info of       Case Number         Date    Year        Type    Country  \\\n",
       "0      2018.06.25  25-Jun-2018  2018.0     Boating        USA   \n",
       "1      2018.06.18  18-Jun-2018  2018.0  Unprovoked        USA   \n",
       "2      2018.06.09  09-Jun-2018  2018.0     Invalid        USA   \n",
       "3      2018.06.08  08-Jun-2018  2018.0  Unprovoked  AUSTRALIA   \n",
       "4      2018.06.04  04-Jun-2018  2018.0    Provoked     MEXICO   \n",
       "...           ...          ...     ...         ...        ...   \n",
       "25718         NaN          NaN     NaN         NaN        NaN   \n",
       "25719         NaN          NaN     NaN         NaN        NaN   \n",
       "25720         NaN          NaN     NaN         NaN        NaN   \n",
       "25721         NaN          NaN     NaN         NaN        NaN   \n",
       "25722          xx          NaN     NaN         NaN        NaN   \n",
       "\n",
       "                  Area                        Location     Activity  \\\n",
       "0           California     Oceanside, San Diego County     Paddling   \n",
       "1              Georgia  St. Simon Island, Glynn County     Standing   \n",
       "2               Hawaii                    Habush, Oahu      Surfing   \n",
       "3      New South Wales              Arrawarra Headland      Surfing   \n",
       "4               Colima                        La Ticla  Free diving   \n",
       "...                ...                             ...          ...   \n",
       "25718              NaN                             NaN          NaN   \n",
       "25719              NaN                             NaN          NaN   \n",
       "25720              NaN                             NaN          NaN   \n",
       "25721              NaN                             NaN          NaN   \n",
       "25722              NaN                             NaN          NaN   \n",
       "\n",
       "                  Name Sex   Age  \\\n",
       "0          Julie Wolfe    F   57   \n",
       "1      Adyson McNeely     F   11   \n",
       "2          John Denges    M   48   \n",
       "3                 male    M  NaN   \n",
       "4       Gustavo Ramos     M  NaN   \n",
       "...                ...  ...  ...   \n",
       "25718              NaN  NaN  NaN   \n",
       "25719              NaN  NaN  NaN   \n",
       "25720              NaN  NaN  NaN   \n",
       "25721              NaN  NaN  NaN   \n",
       "25722              NaN  NaN  NaN   \n",
       "\n",
       "                                                  Injury Fatal (Y/N)  \\\n",
       "0      No injury to occupant, outrigger canoe and pad...           N   \n",
       "1                             Minor injury to left thigh           N   \n",
       "2           Injury to left lower leg from surfboard skeg           N   \n",
       "3                              Minor injury to lower leg           N   \n",
       "4      Lacerations to leg & hand shark PROVOKED INCIDENT           N   \n",
       "...                                                  ...         ...   \n",
       "25718                                                NaN         NaN   \n",
       "25719                                                NaN         NaN   \n",
       "25720                                                NaN         NaN   \n",
       "25721                                                NaN         NaN   \n",
       "25722                                                NaN         NaN   \n",
       "\n",
       "                Time         Species           Investigator or Source  \\\n",
       "0              18h00      White shark                R. Collier, GSAF   \n",
       "1      14h00  -15h00              NaN  K.McMurray, TrackingSharks.com   \n",
       "2              07h45              NaN  K.McMurray, TrackingSharks.com   \n",
       "3                NaN        2 m shark                  B. Myatt, GSAF   \n",
       "4                NaN  Tiger shark, 3m                       A .Kipper   \n",
       "...              ...              ...                             ...   \n",
       "25718            NaN              NaN                             NaN   \n",
       "25719            NaN              NaN                             NaN   \n",
       "25720            NaN              NaN                             NaN   \n",
       "25721            NaN              NaN                             NaN   \n",
       "25722            NaN              NaN                             NaN   \n",
       "\n",
       "                            pdf  \\\n",
       "0          2018.06.25-Wolfe.pdf   \n",
       "1        2018.06.18-McNeely.pdf   \n",
       "2         2018.06.09-Denges.pdf   \n",
       "3      2018.06.08-Arrawarra.pdf   \n",
       "4          2018.06.04-Ramos.pdf   \n",
       "...                         ...   \n",
       "25718                       NaN   \n",
       "25719                       NaN   \n",
       "25720                       NaN   \n",
       "25721                       NaN   \n",
       "25722                       NaN   \n",
       "\n",
       "                                            href formula  \\\n",
       "0      http://sharkattackfile.net/spreadsheets/pdf_di...   \n",
       "1      http://sharkattackfile.net/spreadsheets/pdf_di...   \n",
       "2      http://sharkattackfile.net/spreadsheets/pdf_di...   \n",
       "3      http://sharkattackfile.net/spreadsheets/pdf_di...   \n",
       "4      http://sharkattackfile.net/spreadsheets/pdf_di...   \n",
       "...                                                  ...   \n",
       "25718                                                NaN   \n",
       "25719                                                NaN   \n",
       "25720                                                NaN   \n",
       "25721                                                NaN   \n",
       "25722                                                NaN   \n",
       "\n",
       "                                                    href Case Number.1  \\\n",
       "0      http://sharkattackfile.net/spreadsheets/pdf_di...    2018.06.25   \n",
       "1      http://sharkattackfile.net/spreadsheets/pdf_di...    2018.06.18   \n",
       "2      http://sharkattackfile.net/spreadsheets/pdf_di...    2018.06.09   \n",
       "3      http://sharkattackfile.net/spreadsheets/pdf_di...    2018.06.08   \n",
       "4      http://sharkattackfile.net/spreadsheets/pdf_di...    2018.06.04   \n",
       "...                                                  ...           ...   \n",
       "25718                                                NaN           NaN   \n",
       "25719                                                NaN           NaN   \n",
       "25720                                                NaN           NaN   \n",
       "25721                                                NaN           NaN   \n",
       "25722                                                NaN           NaN   \n",
       "\n",
       "      Case Number.2  original order Unnamed: 22 Unnamed: 23  \n",
       "0        2018.06.25          6303.0         NaN         NaN  \n",
       "1        2018.06.18          6302.0         NaN         NaN  \n",
       "2        2018.06.09          6301.0         NaN         NaN  \n",
       "3        2018.06.08          6300.0         NaN         NaN  \n",
       "4        2018.06.04          6299.0         NaN         NaN  \n",
       "...             ...             ...         ...         ...  \n",
       "25718           NaN             NaN         NaN         NaN  \n",
       "25719           NaN             NaN         NaN         NaN  \n",
       "25720           NaN             NaN         NaN         NaN  \n",
       "25721           NaN             NaN         NaN         NaN  \n",
       "25722           NaN             NaN         NaN         NaN  \n",
       "\n",
       "[25723 rows x 24 columns]>"
      ]
     },
     "execution_count": 5,
     "metadata": {},
     "output_type": "execute_result"
    }
   ],
   "source": [
    "tiburones.info"
   ]
  },
  {
   "cell_type": "code",
   "execution_count": 6,
   "id": "a76150db",
   "metadata": {},
   "outputs": [
    {
     "data": {
      "text/plain": [
       "Case Number                object\n",
       "Date                       object\n",
       "Year                      float64\n",
       "Type                       object\n",
       "Country                    object\n",
       "Area                       object\n",
       "Location                   object\n",
       "Activity                   object\n",
       "Name                       object\n",
       "Sex                        object\n",
       "Age                        object\n",
       "Injury                     object\n",
       "Fatal (Y/N)                object\n",
       "Time                       object\n",
       "Species                    object\n",
       "Investigator or Source     object\n",
       "pdf                        object\n",
       "href formula               object\n",
       "href                       object\n",
       "Case Number.1              object\n",
       "Case Number.2              object\n",
       "original order            float64\n",
       "Unnamed: 22                object\n",
       "Unnamed: 23                object\n",
       "dtype: object"
      ]
     },
     "execution_count": 6,
     "metadata": {},
     "output_type": "execute_result"
    }
   ],
   "source": [
    "tiburones.dtypes"
   ]
  },
  {
   "cell_type": "code",
   "execution_count": null,
   "id": "e33e3dfc",
   "metadata": {},
   "outputs": [],
   "source": []
  },
  {
   "cell_type": "code",
   "execution_count": 7,
   "id": "111d42e0",
   "metadata": {},
   "outputs": [
    {
     "data": {
      "text/html": [
       "<div>\n",
       "<style scoped>\n",
       "    .dataframe tbody tr th:only-of-type {\n",
       "        vertical-align: middle;\n",
       "    }\n",
       "\n",
       "    .dataframe tbody tr th {\n",
       "        vertical-align: top;\n",
       "    }\n",
       "\n",
       "    .dataframe thead th {\n",
       "        text-align: right;\n",
       "    }\n",
       "</style>\n",
       "<table border=\"1\" class=\"dataframe\">\n",
       "  <thead>\n",
       "    <tr style=\"text-align: right;\">\n",
       "      <th></th>\n",
       "      <th>Case Number</th>\n",
       "      <th>Date</th>\n",
       "      <th>Year</th>\n",
       "      <th>Type</th>\n",
       "      <th>Country</th>\n",
       "      <th>Area</th>\n",
       "      <th>Location</th>\n",
       "      <th>Activity</th>\n",
       "      <th>Name</th>\n",
       "      <th>Sex</th>\n",
       "      <th>Age</th>\n",
       "      <th>Injury</th>\n",
       "      <th>Fatal (Y/N)</th>\n",
       "      <th>Time</th>\n",
       "      <th>Species</th>\n",
       "      <th>Investigator or Source</th>\n",
       "      <th>pdf</th>\n",
       "      <th>href formula</th>\n",
       "      <th>href</th>\n",
       "      <th>Case Number.1</th>\n",
       "      <th>Case Number.2</th>\n",
       "      <th>original order</th>\n",
       "      <th>Unnamed: 22</th>\n",
       "      <th>Unnamed: 23</th>\n",
       "    </tr>\n",
       "  </thead>\n",
       "  <tbody>\n",
       "    <tr>\n",
       "      <th>0</th>\n",
       "      <td>2018.06.25</td>\n",
       "      <td>25-Jun-2018</td>\n",
       "      <td>2018.0</td>\n",
       "      <td>Boating</td>\n",
       "      <td>USA</td>\n",
       "      <td>California</td>\n",
       "      <td>Oceanside, San Diego County</td>\n",
       "      <td>Paddling</td>\n",
       "      <td>Julie Wolfe</td>\n",
       "      <td>F</td>\n",
       "      <td>57</td>\n",
       "      <td>No injury to occupant, outrigger canoe and pad...</td>\n",
       "      <td>N</td>\n",
       "      <td>18h00</td>\n",
       "      <td>White shark</td>\n",
       "      <td>R. Collier, GSAF</td>\n",
       "      <td>2018.06.25-Wolfe.pdf</td>\n",
       "      <td>http://sharkattackfile.net/spreadsheets/pdf_di...</td>\n",
       "      <td>http://sharkattackfile.net/spreadsheets/pdf_di...</td>\n",
       "      <td>2018.06.25</td>\n",
       "      <td>2018.06.25</td>\n",
       "      <td>6303.0</td>\n",
       "      <td>NaN</td>\n",
       "      <td>NaN</td>\n",
       "    </tr>\n",
       "    <tr>\n",
       "      <th>1</th>\n",
       "      <td>2018.06.18</td>\n",
       "      <td>18-Jun-2018</td>\n",
       "      <td>2018.0</td>\n",
       "      <td>Unprovoked</td>\n",
       "      <td>USA</td>\n",
       "      <td>Georgia</td>\n",
       "      <td>St. Simon Island, Glynn County</td>\n",
       "      <td>Standing</td>\n",
       "      <td>Adyson McNeely</td>\n",
       "      <td>F</td>\n",
       "      <td>11</td>\n",
       "      <td>Minor injury to left thigh</td>\n",
       "      <td>N</td>\n",
       "      <td>14h00  -15h00</td>\n",
       "      <td>NaN</td>\n",
       "      <td>K.McMurray, TrackingSharks.com</td>\n",
       "      <td>2018.06.18-McNeely.pdf</td>\n",
       "      <td>http://sharkattackfile.net/spreadsheets/pdf_di...</td>\n",
       "      <td>http://sharkattackfile.net/spreadsheets/pdf_di...</td>\n",
       "      <td>2018.06.18</td>\n",
       "      <td>2018.06.18</td>\n",
       "      <td>6302.0</td>\n",
       "      <td>NaN</td>\n",
       "      <td>NaN</td>\n",
       "    </tr>\n",
       "    <tr>\n",
       "      <th>2</th>\n",
       "      <td>2018.06.09</td>\n",
       "      <td>09-Jun-2018</td>\n",
       "      <td>2018.0</td>\n",
       "      <td>Invalid</td>\n",
       "      <td>USA</td>\n",
       "      <td>Hawaii</td>\n",
       "      <td>Habush, Oahu</td>\n",
       "      <td>Surfing</td>\n",
       "      <td>John Denges</td>\n",
       "      <td>M</td>\n",
       "      <td>48</td>\n",
       "      <td>Injury to left lower leg from surfboard skeg</td>\n",
       "      <td>N</td>\n",
       "      <td>07h45</td>\n",
       "      <td>NaN</td>\n",
       "      <td>K.McMurray, TrackingSharks.com</td>\n",
       "      <td>2018.06.09-Denges.pdf</td>\n",
       "      <td>http://sharkattackfile.net/spreadsheets/pdf_di...</td>\n",
       "      <td>http://sharkattackfile.net/spreadsheets/pdf_di...</td>\n",
       "      <td>2018.06.09</td>\n",
       "      <td>2018.06.09</td>\n",
       "      <td>6301.0</td>\n",
       "      <td>NaN</td>\n",
       "      <td>NaN</td>\n",
       "    </tr>\n",
       "    <tr>\n",
       "      <th>3</th>\n",
       "      <td>2018.06.08</td>\n",
       "      <td>08-Jun-2018</td>\n",
       "      <td>2018.0</td>\n",
       "      <td>Unprovoked</td>\n",
       "      <td>AUSTRALIA</td>\n",
       "      <td>New South Wales</td>\n",
       "      <td>Arrawarra Headland</td>\n",
       "      <td>Surfing</td>\n",
       "      <td>male</td>\n",
       "      <td>M</td>\n",
       "      <td>NaN</td>\n",
       "      <td>Minor injury to lower leg</td>\n",
       "      <td>N</td>\n",
       "      <td>NaN</td>\n",
       "      <td>2 m shark</td>\n",
       "      <td>B. Myatt, GSAF</td>\n",
       "      <td>2018.06.08-Arrawarra.pdf</td>\n",
       "      <td>http://sharkattackfile.net/spreadsheets/pdf_di...</td>\n",
       "      <td>http://sharkattackfile.net/spreadsheets/pdf_di...</td>\n",
       "      <td>2018.06.08</td>\n",
       "      <td>2018.06.08</td>\n",
       "      <td>6300.0</td>\n",
       "      <td>NaN</td>\n",
       "      <td>NaN</td>\n",
       "    </tr>\n",
       "  </tbody>\n",
       "</table>\n",
       "</div>"
      ],
      "text/plain": [
       "  Case Number         Date    Year        Type    Country             Area  \\\n",
       "0  2018.06.25  25-Jun-2018  2018.0     Boating        USA       California   \n",
       "1  2018.06.18  18-Jun-2018  2018.0  Unprovoked        USA          Georgia   \n",
       "2  2018.06.09  09-Jun-2018  2018.0     Invalid        USA           Hawaii   \n",
       "3  2018.06.08  08-Jun-2018  2018.0  Unprovoked  AUSTRALIA  New South Wales   \n",
       "\n",
       "                         Location  Activity             Name Sex   Age  \\\n",
       "0     Oceanside, San Diego County  Paddling      Julie Wolfe    F   57   \n",
       "1  St. Simon Island, Glynn County  Standing  Adyson McNeely     F   11   \n",
       "2                    Habush, Oahu   Surfing      John Denges    M   48   \n",
       "3              Arrawarra Headland   Surfing             male    M  NaN   \n",
       "\n",
       "                                              Injury Fatal (Y/N)  \\\n",
       "0  No injury to occupant, outrigger canoe and pad...           N   \n",
       "1                         Minor injury to left thigh           N   \n",
       "2       Injury to left lower leg from surfboard skeg           N   \n",
       "3                          Minor injury to lower leg           N   \n",
       "\n",
       "            Time     Species           Investigator or Source  \\\n",
       "0          18h00  White shark                R. Collier, GSAF   \n",
       "1  14h00  -15h00          NaN  K.McMurray, TrackingSharks.com   \n",
       "2          07h45          NaN  K.McMurray, TrackingSharks.com   \n",
       "3            NaN    2 m shark                  B. Myatt, GSAF   \n",
       "\n",
       "                        pdf  \\\n",
       "0      2018.06.25-Wolfe.pdf   \n",
       "1    2018.06.18-McNeely.pdf   \n",
       "2     2018.06.09-Denges.pdf   \n",
       "3  2018.06.08-Arrawarra.pdf   \n",
       "\n",
       "                                        href formula  \\\n",
       "0  http://sharkattackfile.net/spreadsheets/pdf_di...   \n",
       "1  http://sharkattackfile.net/spreadsheets/pdf_di...   \n",
       "2  http://sharkattackfile.net/spreadsheets/pdf_di...   \n",
       "3  http://sharkattackfile.net/spreadsheets/pdf_di...   \n",
       "\n",
       "                                                href Case Number.1  \\\n",
       "0  http://sharkattackfile.net/spreadsheets/pdf_di...    2018.06.25   \n",
       "1  http://sharkattackfile.net/spreadsheets/pdf_di...    2018.06.18   \n",
       "2  http://sharkattackfile.net/spreadsheets/pdf_di...    2018.06.09   \n",
       "3  http://sharkattackfile.net/spreadsheets/pdf_di...    2018.06.08   \n",
       "\n",
       "  Case Number.2  original order Unnamed: 22 Unnamed: 23  \n",
       "0    2018.06.25          6303.0         NaN         NaN  \n",
       "1    2018.06.18          6302.0         NaN         NaN  \n",
       "2    2018.06.09          6301.0         NaN         NaN  \n",
       "3    2018.06.08          6300.0         NaN         NaN  "
      ]
     },
     "execution_count": 7,
     "metadata": {},
     "output_type": "execute_result"
    }
   ],
   "source": [
    "tiburones.head(4)"
   ]
  },
  {
   "cell_type": "code",
   "execution_count": 8,
   "id": "4ce81c53",
   "metadata": {},
   "outputs": [
    {
     "data": {
      "text/plain": [
       "0            White shark\n",
       "1                    NaN\n",
       "2                    NaN\n",
       "3              2 m shark\n",
       "4        Tiger shark, 3m\n",
       "              ...       \n",
       "25718                NaN\n",
       "25719                NaN\n",
       "25720                NaN\n",
       "25721                NaN\n",
       "25722                NaN\n",
       "Name: species, Length: 25723, dtype: object"
      ]
     },
     "execution_count": 8,
     "metadata": {},
     "output_type": "execute_result"
    }
   ],
   "source": [
    "tiburones.columns = tiburones.columns.str.strip()\n",
    "tiburones.columns = tiburones.columns.str.lower()\n",
    "tiburones[\"species\"]\n",
    "\n",
    "\n",
    "#len(tiburones[\"Case Number\"]."
   ]
  },
  {
   "cell_type": "code",
   "execution_count": 9,
   "id": "482f2608",
   "metadata": {},
   "outputs": [],
   "source": [
    "tiburones = tiburones.dropna(how=\"all\")"
   ]
  },
  {
   "cell_type": "code",
   "execution_count": 10,
   "id": "baaa0187",
   "metadata": {},
   "outputs": [
    {
     "data": {
      "text/plain": [
       "((25723, 24), (8703, 24))"
      ]
     },
     "execution_count": 10,
     "metadata": {},
     "output_type": "execute_result"
    }
   ],
   "source": [
    "tiburones_ori.shape, tiburones.shape"
   ]
  },
  {
   "cell_type": "code",
   "execution_count": 11,
   "id": "09a6e9f9",
   "metadata": {},
   "outputs": [
    {
     "data": {
      "text/html": [
       "<div>\n",
       "<style scoped>\n",
       "    .dataframe tbody tr th:only-of-type {\n",
       "        vertical-align: middle;\n",
       "    }\n",
       "\n",
       "    .dataframe tbody tr th {\n",
       "        vertical-align: top;\n",
       "    }\n",
       "\n",
       "    .dataframe thead th {\n",
       "        text-align: right;\n",
       "    }\n",
       "</style>\n",
       "<table border=\"1\" class=\"dataframe\">\n",
       "  <thead>\n",
       "    <tr style=\"text-align: right;\">\n",
       "      <th></th>\n",
       "      <th>case number</th>\n",
       "      <th>date</th>\n",
       "      <th>year</th>\n",
       "      <th>type</th>\n",
       "      <th>country</th>\n",
       "      <th>area</th>\n",
       "      <th>location</th>\n",
       "      <th>activity</th>\n",
       "      <th>name</th>\n",
       "      <th>sex</th>\n",
       "      <th>age</th>\n",
       "      <th>injury</th>\n",
       "      <th>fatal (y/n)</th>\n",
       "      <th>time</th>\n",
       "      <th>species</th>\n",
       "      <th>investigator or source</th>\n",
       "      <th>pdf</th>\n",
       "      <th>href formula</th>\n",
       "      <th>href</th>\n",
       "      <th>case number.1</th>\n",
       "      <th>case number.2</th>\n",
       "      <th>original order</th>\n",
       "      <th>unnamed: 22</th>\n",
       "      <th>unnamed: 23</th>\n",
       "    </tr>\n",
       "  </thead>\n",
       "  <tbody>\n",
       "    <tr>\n",
       "      <th>0</th>\n",
       "      <td>2018.06.25</td>\n",
       "      <td>25-Jun-2018</td>\n",
       "      <td>2018.0</td>\n",
       "      <td>Boating</td>\n",
       "      <td>USA</td>\n",
       "      <td>California</td>\n",
       "      <td>Oceanside, San Diego County</td>\n",
       "      <td>Paddling</td>\n",
       "      <td>Julie Wolfe</td>\n",
       "      <td>F</td>\n",
       "      <td>57</td>\n",
       "      <td>No injury to occupant, outrigger canoe and pad...</td>\n",
       "      <td>N</td>\n",
       "      <td>18h00</td>\n",
       "      <td>White shark</td>\n",
       "      <td>R. Collier, GSAF</td>\n",
       "      <td>2018.06.25-Wolfe.pdf</td>\n",
       "      <td>http://sharkattackfile.net/spreadsheets/pdf_di...</td>\n",
       "      <td>http://sharkattackfile.net/spreadsheets/pdf_di...</td>\n",
       "      <td>2018.06.25</td>\n",
       "      <td>2018.06.25</td>\n",
       "      <td>6303.0</td>\n",
       "      <td>NaN</td>\n",
       "      <td>NaN</td>\n",
       "    </tr>\n",
       "    <tr>\n",
       "      <th>1</th>\n",
       "      <td>2018.06.18</td>\n",
       "      <td>18-Jun-2018</td>\n",
       "      <td>2018.0</td>\n",
       "      <td>Unprovoked</td>\n",
       "      <td>USA</td>\n",
       "      <td>Georgia</td>\n",
       "      <td>St. Simon Island, Glynn County</td>\n",
       "      <td>Standing</td>\n",
       "      <td>Adyson McNeely</td>\n",
       "      <td>F</td>\n",
       "      <td>11</td>\n",
       "      <td>Minor injury to left thigh</td>\n",
       "      <td>N</td>\n",
       "      <td>14h00  -15h00</td>\n",
       "      <td>NaN</td>\n",
       "      <td>K.McMurray, TrackingSharks.com</td>\n",
       "      <td>2018.06.18-McNeely.pdf</td>\n",
       "      <td>http://sharkattackfile.net/spreadsheets/pdf_di...</td>\n",
       "      <td>http://sharkattackfile.net/spreadsheets/pdf_di...</td>\n",
       "      <td>2018.06.18</td>\n",
       "      <td>2018.06.18</td>\n",
       "      <td>6302.0</td>\n",
       "      <td>NaN</td>\n",
       "      <td>NaN</td>\n",
       "    </tr>\n",
       "  </tbody>\n",
       "</table>\n",
       "</div>"
      ],
      "text/plain": [
       "  case number         date    year        type country        area  \\\n",
       "0  2018.06.25  25-Jun-2018  2018.0     Boating     USA  California   \n",
       "1  2018.06.18  18-Jun-2018  2018.0  Unprovoked     USA     Georgia   \n",
       "\n",
       "                         location  activity             name sex age  \\\n",
       "0     Oceanside, San Diego County  Paddling      Julie Wolfe   F  57   \n",
       "1  St. Simon Island, Glynn County  Standing  Adyson McNeely    F  11   \n",
       "\n",
       "                                              injury fatal (y/n)  \\\n",
       "0  No injury to occupant, outrigger canoe and pad...           N   \n",
       "1                         Minor injury to left thigh           N   \n",
       "\n",
       "            time      species          investigator or source  \\\n",
       "0          18h00  White shark                R. Collier, GSAF   \n",
       "1  14h00  -15h00          NaN  K.McMurray, TrackingSharks.com   \n",
       "\n",
       "                      pdf                                       href formula  \\\n",
       "0    2018.06.25-Wolfe.pdf  http://sharkattackfile.net/spreadsheets/pdf_di...   \n",
       "1  2018.06.18-McNeely.pdf  http://sharkattackfile.net/spreadsheets/pdf_di...   \n",
       "\n",
       "                                                href case number.1  \\\n",
       "0  http://sharkattackfile.net/spreadsheets/pdf_di...    2018.06.25   \n",
       "1  http://sharkattackfile.net/spreadsheets/pdf_di...    2018.06.18   \n",
       "\n",
       "  case number.2  original order unnamed: 22 unnamed: 23  \n",
       "0    2018.06.25          6303.0         NaN         NaN  \n",
       "1    2018.06.18          6302.0         NaN         NaN  "
      ]
     },
     "execution_count": 11,
     "metadata": {},
     "output_type": "execute_result"
    }
   ],
   "source": [
    "tiburones.head(2)"
   ]
  },
  {
   "cell_type": "code",
   "execution_count": 12,
   "id": "6d629ebc",
   "metadata": {},
   "outputs": [
    {
     "data": {
      "text/plain": [
       "array([2018., 2017.,   nan, 2016., 2015., 2014., 2013., 2012., 2011.,\n",
       "       2010., 2009., 2008., 2007., 2006., 2005., 2004., 2003., 2002.,\n",
       "       2001., 2000., 1999., 1998., 1997., 1996., 1995., 1984., 1994.,\n",
       "       1993., 1992., 1991., 1990., 1989., 1969., 1988., 1987., 1986.,\n",
       "       1985., 1983., 1982., 1981., 1980., 1979., 1978., 1977., 1976.,\n",
       "       1975., 1974., 1973., 1972., 1971., 1970., 1968., 1967., 1966.,\n",
       "       1965., 1964., 1963., 1962., 1961., 1960., 1959., 1958., 1957.,\n",
       "       1956., 1955., 1954., 1953., 1952., 1951., 1950., 1949., 1948.,\n",
       "       1848., 1947., 1946., 1945., 1944., 1943., 1942., 1941., 1940.,\n",
       "       1939., 1938., 1937., 1936., 1935., 1934., 1933., 1932., 1931.,\n",
       "       1930., 1929., 1928., 1927., 1926., 1925., 1924., 1923., 1922.,\n",
       "       1921., 1920., 1919., 1918., 1917., 1916., 1915., 1914., 1913.,\n",
       "       1912., 1911., 1910., 1909., 1908., 1907., 1906., 1905., 1904.,\n",
       "       1903., 1902., 1901., 1900., 1899., 1898., 1897., 1896., 1895.,\n",
       "       1894., 1893., 1892., 1891., 1890., 1889., 1888., 1887., 1886.,\n",
       "       1885., 1884., 1883., 1882., 1881., 1880., 1879., 1878., 1877.,\n",
       "       1876., 1875., 1874., 1873., 1872., 1871., 1870., 1869., 1868.,\n",
       "       1867., 1866., 1865., 1864., 1863., 1862., 1861., 1860., 1859.,\n",
       "       1858., 1857., 1856., 1855., 1853., 1852., 1851., 1850., 1849.,\n",
       "       1847., 1846., 1845., 1844., 1842., 1841., 1840., 1839., 1837.,\n",
       "       1836., 1835., 1834., 1832., 1831., 1830., 1829., 1828., 1827.,\n",
       "       1826., 1825., 1823., 1822., 1819., 1818., 1817., 1816., 1815.,\n",
       "       1812., 1811., 1810., 1808., 1807., 1805., 1804., 1803., 1802.,\n",
       "       1801., 1800., 1797., 1792., 1791., 1788., 1787., 1786., 1785.,\n",
       "       1784., 1783., 1780., 1779., 1776., 1771., 1767., 1764., 1758.,\n",
       "       1753., 1751., 1749., 1755., 1748., 1742., 1738., 1733., 1723.,\n",
       "       1721., 1703., 1700., 1642., 1638., 1637., 1617., 1595., 1580.,\n",
       "       1555., 1554., 1543.,  500.,   77.,    5.,    0.])"
      ]
     },
     "execution_count": 12,
     "metadata": {},
     "output_type": "execute_result"
    }
   ],
   "source": [
    "tiburones.year.unique()\n",
    "#evaluo que fechas existen"
   ]
  },
  {
   "cell_type": "code",
   "execution_count": 13,
   "id": "ac8843cd",
   "metadata": {},
   "outputs": [
    {
     "data": {
      "text/plain": [
       "0.0      125\n",
       "500.0      1\n",
       "77.0       1\n",
       "5.0        1\n",
       "Name: year, dtype: int64"
      ]
     },
     "execution_count": 13,
     "metadata": {},
     "output_type": "execute_result"
    }
   ],
   "source": [
    "tiburones.year[tiburones.year < 501].value_counts()\n",
    "#miro cuales serian por debajo del año 500"
   ]
  },
  {
   "cell_type": "code",
   "execution_count": 14,
   "id": "cc8c95b9",
   "metadata": {},
   "outputs": [],
   "source": [
    "tiburones = tiburones.drop(tiburones[(tiburones.year < 1923)].index)\n",
    "#me cargo todos los que no sean por debajo de 1923 que son mis fines"
   ]
  },
  {
   "cell_type": "code",
   "execution_count": 15,
   "id": "a33632d5",
   "metadata": {},
   "outputs": [
    {
     "data": {
      "text/plain": [
       "(Series([], Name: year, dtype: int64),\n",
       " array([2018., 2017.,   nan, 2016., 2015., 2014., 2013., 2012., 2011.,\n",
       "        2010., 2009., 2008., 2007., 2006., 2005., 2004., 2003., 2002.,\n",
       "        2001., 2000., 1999., 1998., 1997., 1996., 1995., 1984., 1994.,\n",
       "        1993., 1992., 1991., 1990., 1989., 1969., 1988., 1987., 1986.,\n",
       "        1985., 1983., 1982., 1981., 1980., 1979., 1978., 1977., 1976.,\n",
       "        1975., 1974., 1973., 1972., 1971., 1970., 1968., 1967., 1966.,\n",
       "        1965., 1964., 1963., 1962., 1961., 1960., 1959., 1958., 1957.,\n",
       "        1956., 1955., 1954., 1953., 1952., 1951., 1950., 1949., 1948.,\n",
       "        1947., 1946., 1945., 1944., 1943., 1942., 1941., 1940., 1939.,\n",
       "        1938., 1937., 1936., 1935., 1934., 1933., 1932., 1931., 1930.,\n",
       "        1929., 1928., 1927., 1926., 1925., 1924., 1923.]))"
      ]
     },
     "execution_count": 15,
     "metadata": {},
     "output_type": "execute_result"
    }
   ],
   "source": [
    "tiburones.year[tiburones.year < 1923].value_counts() ,tiburones.year.unique()"
   ]
  },
  {
   "cell_type": "code",
   "execution_count": 16,
   "id": "5418f279",
   "metadata": {},
   "outputs": [
    {
     "name": "stdout",
     "output_type": "stream",
     "text": [
      "<class 'pandas.core.frame.DataFrame'>\n",
      "Int64Index: 7615 entries, 0 to 25722\n",
      "Data columns (total 24 columns):\n",
      " #   Column                  Non-Null Count  Dtype  \n",
      "---  ------                  --------------  -----  \n",
      " 0   case number             7615 non-null   object \n",
      " 1   date                    5214 non-null   object \n",
      " 2   year                    5212 non-null   float64\n",
      " 3   type                    5211 non-null   object \n",
      " 4   country                 5191 non-null   object \n",
      " 5   area                    4921 non-null   object \n",
      " 6   location                4864 non-null   object \n",
      " 7   activity                4815 non-null   object \n",
      " 8   name                    5066 non-null   object \n",
      " 9   sex                     4728 non-null   object \n",
      " 10  age                     3301 non-null   object \n",
      " 11  injury                  5197 non-null   object \n",
      " 12  fatal (y/n)             4791 non-null   object \n",
      " 13  time                    2778 non-null   object \n",
      " 14  species                 3170 non-null   object \n",
      " 15  investigator or source  5200 non-null   object \n",
      " 16  pdf                     5214 non-null   object \n",
      " 17  href formula            5213 non-null   object \n",
      " 18  href                    5214 non-null   object \n",
      " 19  case number.1           5214 non-null   object \n",
      " 20  case number.2           5214 non-null   object \n",
      " 21  original order          5221 non-null   float64\n",
      " 22  unnamed: 22             1 non-null      object \n",
      " 23  unnamed: 23             1 non-null      object \n",
      "dtypes: float64(2), object(22)\n",
      "memory usage: 1.5+ MB\n"
     ]
    }
   ],
   "source": [
    "#tiburones.year[tiburones.year == nan].value_counts()\n",
    "tiburones.info(memory_usage=\"Deep\")"
   ]
  },
  {
   "cell_type": "code",
   "execution_count": 17,
   "id": "22d9e9e7",
   "metadata": {},
   "outputs": [
    {
     "data": {
      "text/plain": [
       "170"
      ]
     },
     "execution_count": 17,
     "metadata": {},
     "output_type": "execute_result"
    }
   ],
   "source": [
    "len(tiburones.country.unique())\n",
    "#tiburones[\"country\"].str.lower()\n",
    "\n"
   ]
  },
  {
   "cell_type": "code",
   "execution_count": 18,
   "id": "18854963",
   "metadata": {},
   "outputs": [],
   "source": [
    "tiburones[\"country\"] = tiburones[\"country\"].str.lower()"
   ]
  },
  {
   "cell_type": "code",
   "execution_count": 19,
   "id": "681ffe80",
   "metadata": {},
   "outputs": [
    {
     "data": {
      "text/plain": [
       "(167,\n",
       " array(['usa', 'australia', 'mexico', 'brazil', 'england', 'south africa',\n",
       "        'thailand', 'costa rica', 'maldives', 'bahamas', 'new caledonia',\n",
       "        'ecuador', 'malaysia', 'libya', nan, 'cuba', 'mauritius',\n",
       "        'new zealand', 'spain', 'samoa', 'solomon islands', 'japan',\n",
       "        'egypt', 'st helena, british overseas territory', 'comoros',\n",
       "        'reunion', 'french polynesia', 'united kingdom',\n",
       "        'united arab emirates', 'philippines', 'indonesia', 'china',\n",
       "        'columbia', 'cape verde', 'fiji', 'dominican republic',\n",
       "        'cayman islands', 'aruba', 'mozambique', 'puerto rico', 'italy',\n",
       "        'atlantic ocean', 'greece', 'st. martin', 'france',\n",
       "        'papua new guinea', 'trinidad & tobago', 'kiribati', 'israel',\n",
       "        'diego garcia', 'taiwan', 'jamaica', 'palestinian territories',\n",
       "        'guam', 'seychelles', 'belize', 'nigeria', 'tonga', 'scotland',\n",
       "        'canada', 'croatia', 'saudi arabia', 'chile', 'antigua', 'kenya',\n",
       "        'russia', 'turks & caicos', 'united arab emirates (uae)', 'azores',\n",
       "        'south korea', 'malta', 'vietnam', 'madagascar', 'panama',\n",
       "        'somalia', 'nevis', 'british virgin islands', 'norway', 'senegal',\n",
       "        'yemen', 'gulf of aden', 'sierra leone', 'st. maartin',\n",
       "        'grand cayman', 'liberia', 'vanuatu', 'mexico ', 'honduras',\n",
       "        'venezuela', 'sri lanka', ' tonga', 'uruguay', 'india',\n",
       "        'micronesia', 'caribbean sea', 'okinawa', 'tanzania',\n",
       "        'marshall islands', 'egypt / israel', 'northern arabian sea',\n",
       "        'hong kong', 'el salvador', 'angola', 'bermuda', 'montenegro',\n",
       "        'iran', 'tunisia', 'namibia', 'north atlantic ocean', 'portugal',\n",
       "        'south china sea', 'bangladesh', 'palau', 'western samoa',\n",
       "        'pacific ocean ', 'british isles', 'grenada', 'iraq', 'turkey',\n",
       "        'singapore', 'new britain', 'sudan', 'johnston island',\n",
       "        'south pacific ocean', 'new guinea', 'red sea',\n",
       "        'north pacific ocean', 'federated states of micronesia',\n",
       "        'mid atlantic ocean', 'admiralty islands', 'british west indies',\n",
       "        'south atlantic ocean', 'persian gulf', 'red sea / indian ocean',\n",
       "        'pacific ocean', 'north sea', 'nicaragua ', 'maldive islands',\n",
       "        'american samoa', 'andaman / nicobar islandas', 'gabon', 'mayotte',\n",
       "        'north atlantic ocean ', 'the balkans', 'sudan?', 'argentina',\n",
       "        'martinique', 'indian ocean', 'guatemala', 'netherlands antilles',\n",
       "        'northern mariana islands', 'iran / iraq', 'java', ' philippines',\n",
       "        'nicaragua', 'central pacific', 'solomon islands / vanuatu',\n",
       "        'southwest pacific ocean', 'bay of bengal', 'mid-pacifc ocean',\n",
       "        'slovenia', 'curacao', 'iceland', 'italy / croatia', 'barbados',\n",
       "        'monaco', 'guyana'], dtype=object))"
      ]
     },
     "execution_count": 19,
     "metadata": {},
     "output_type": "execute_result"
    }
   ],
   "source": [
    "len(tiburones.country.unique()), tiburones.country.unique()"
   ]
  },
  {
   "cell_type": "code",
   "execution_count": 20,
   "id": "940fd205",
   "metadata": {},
   "outputs": [],
   "source": [
    "#nulos_casen = tiburones[(tiburones.dtypes == float).all(1)]"
   ]
  },
  {
   "cell_type": "code",
   "execution_count": 21,
   "id": "2cc586cc",
   "metadata": {},
   "outputs": [
    {
     "data": {
      "text/plain": [
       "0        25-Jun-2018\n",
       "1        18-Jun-2018\n",
       "2        09-Jun-2018\n",
       "3        08-Jun-2018\n",
       "4        04-Jun-2018\n",
       "            ...     \n",
       "8698             NaN\n",
       "8699             NaN\n",
       "8700             NaN\n",
       "8701             NaN\n",
       "25722            NaN\n",
       "Name: date, Length: 7615, dtype: object"
      ]
     },
     "execution_count": 21,
     "metadata": {},
     "output_type": "execute_result"
    }
   ],
   "source": [
    "tiburones.date.str.replace(\"Reported \", \"\")"
   ]
  },
  {
   "cell_type": "code",
   "execution_count": null,
   "id": "ed05d83f",
   "metadata": {},
   "outputs": [],
   "source": []
  },
  {
   "cell_type": "code",
   "execution_count": 22,
   "id": "5311a8ac",
   "metadata": {},
   "outputs": [
    {
     "data": {
      "text/plain": [
       "'\\ndef limpiar2(x):\\n    \\n    # date_col= re.findall(r\"[a-zA-Z]+|\\\\d+\", e)\\n    if (type(x) == str):\\n        return re.sub(r\\'\\\\d+\\', \" \", x)\\n    else: \\n        return np.nan\\nfor e in tiburones.date:\\n    tiburones.date = limpiar2(e)\\n\\ntiburones.date\\n\\ndate_col=[]\\n\\n\\ndef limpiar(string):\\n    try:\\n        x = string.replace(\\'Reported \\', \\'\\')\\n        x = x.strip().replace(\\'.\\', \\' \\').replace(\\'-\\', \\' \\')\\n        return x.split()\\n    except: return [np.nan, np.nan, np.nan]\\n\\n#date_col=[limpiar(tiburones.date[e]) for e in tiburones.date]\\ndate_col=[]\\nfor e in tiburones.date:\\n    date_col.append(limpiar(e))\\n\\ndate_col[0:70]'"
      ]
     },
     "execution_count": 22,
     "metadata": {},
     "output_type": "execute_result"
    }
   ],
   "source": [
    "\"\"\"\n",
    "def limpiar2(x):\n",
    "    \n",
    "    # date_col= re.findall(r\"[a-zA-Z]+|\\d+\", e)\n",
    "    if (type(x) == str):\n",
    "        return re.sub(r'\\d+', \" \", x)\n",
    "    else: \n",
    "        return np.nan\n",
    "for e in tiburones.date:\n",
    "    tiburones.date = limpiar2(e)\n",
    "\n",
    "tiburones.date\n",
    "\n",
    "date_col=[]\n",
    "\n",
    "\n",
    "def limpiar(string):\n",
    "    try:\n",
    "        x = string.replace('Reported ', '')\n",
    "        x = x.strip().replace('.', ' ').replace('-', ' ')\n",
    "        return x.split()\n",
    "    except: return [np.nan, np.nan, np.nan]\n",
    "\n",
    "#date_col=[limpiar(tiburones.date[e]) for e in tiburones.date]\n",
    "date_col=[]\n",
    "for e in tiburones.date:\n",
    "    date_col.append(limpiar(e))\n",
    "\n",
    "date_col[0:70]\"\"\""
   ]
  },
  {
   "cell_type": "code",
   "execution_count": 23,
   "id": "113da2a8",
   "metadata": {},
   "outputs": [
    {
     "data": {
      "image/png": "[encoded data removed]",
      "text/plain": [
       "<Figure size 1000x600 with 1 Axes>"
      ]
     },
     "metadata": {},
     "output_type": "display_data"
    }
   ],
   "source": [
    "#empezamos la limpieza de nulos\n",
    "nan_cols = tiburones.isna().sum()\n",
    "plt.figure(figsize=(10, 6))  # inicia la figura y establece el tamaño\n",
    "\n",
    "sns.heatmap(tiburones.isna(),   # datos\n",
    "            yticklabels=False,\n",
    "            cmap='viridis',\n",
    "            cbar=False\n",
    "           )\n",
    "\n",
    "plt.show();"
   ]
  },
  {
   "cell_type": "code",
   "execution_count": 24,
   "id": "ed2841ef",
   "metadata": {},
   "outputs": [],
   "source": [
    "#Según vemos, hay muchos casos que solo tienen el parámetro \"case number\". En nuestro caso y con el fin que buscamos, a eliminar\n",
    "#todos los casos que no tengan país, para eso utilizamos el metodo dropna\n",
    "#df.dropna(subset=['columna_especifica'], inplace=True)\n",
    "tiburones.dropna(subset= [\"country\"], inplace=True)"
   ]
  },
  {
   "cell_type": "code",
   "execution_count": 25,
   "id": "050d8ce3",
   "metadata": {},
   "outputs": [
    {
     "data": {
      "image/png": "[encoded data removed]",
      "text/plain": [
       "<Figure size 1000x600 with 1 Axes>"
      ]
     },
     "metadata": {},
     "output_type": "display_data"
    }
   ],
   "source": [
    "#volvemos a comprobar los gráficos para ver si se han eliminado las filas que queriamos\n",
    "nan_cols = tiburones.isna().sum()\n",
    "plt.figure(figsize=(10, 6))  # inicia la figura y establece el tamaño\n",
    "\n",
    "sns.heatmap(tiburones.isna(),   # datos\n",
    "            yticklabels=False,\n",
    "            cmap='viridis',\n",
    "            cbar=False\n",
    "           )\n",
    "\n",
    "plt.show();"
   ]
  },
  {
   "cell_type": "code",
   "execution_count": 26,
   "id": "0c3d9fdb",
   "metadata": {},
   "outputs": [
    {
     "data": {
      "text/plain": [
       "case number                object\n",
       "date                       object\n",
       "year                      float64\n",
       "type                       object\n",
       "country                    object\n",
       "area                       object\n",
       "location                   object\n",
       "activity                   object\n",
       "name                       object\n",
       "sex                        object\n",
       "age                        object\n",
       "injury                     object\n",
       "fatal (y/n)                object\n",
       "time                       object\n",
       "species                    object\n",
       "investigator or source     object\n",
       "pdf                        object\n",
       "href formula               object\n",
       "href                       object\n",
       "case number.1              object\n",
       "case number.2              object\n",
       "original order            float64\n",
       "unnamed: 22                object\n",
       "unnamed: 23                object\n",
       "dtype: object"
      ]
     },
     "execution_count": 26,
     "metadata": {},
     "output_type": "execute_result"
    }
   ],
   "source": [
    "#vamos a llenar los nulos de las columnas que corresponderian al tipo de formatro estring\n",
    "#para ello, al ser valores desconocidos, sustituimos los nulos por \"unknown\". Primero vemos que tipo de datos sont:\n",
    "tiburones.dtypes"
   ]
  },
  {
   "cell_type": "code",
   "execution_count": 27,
   "id": "bf99c1a5",
   "metadata": {},
   "outputs": [
    {
     "data": {
      "image/png": "[encoded data removed]",
      "text/plain": [
       "<Figure size 1000x600 with 1 Axes>"
      ]
     },
     "metadata": {},
     "output_type": "display_data"
    }
   ],
   "source": [
    "#ahora utilizamos fillna para reemplazar\n",
    "#df['columna_especifica'].fillna(value=0, inplace=True)\n",
    "tiburones[\"type\"].fillna(value=\"unknown\", inplace=True)\n",
    "tiburones[\"area\"].fillna(value=\"unknown\", inplace=True)\n",
    "tiburones[\"location\"].fillna(value=\"unknown\", inplace=True)\n",
    "tiburones[\"name\"].fillna(value=\"unknown\", inplace=True)\n",
    "tiburones[\"sex\"].fillna(value=\"unknown\", inplace=True)\n",
    "tiburones[\"injury\"].fillna(value=\"unknown\", inplace=True)\n",
    "tiburones[\"fatal (y/n)\"].fillna(value=\"unknown\", inplace=True)\n",
    "tiburones[\"species\"].fillna(value=\"unknown\", inplace=True)\n",
    "tiburones[\"pdf\"].fillna(value=\"unknown\", inplace=True)\n",
    "tiburones[\"href\"].fillna(value=\"unknown\", inplace=True)\n",
    "plt.figure(figsize=(10, 6))  # inicia la figura y establece el tamaño\n",
    "\n",
    "sns.heatmap(tiburones.isna(),   # datos\n",
    "            yticklabels=False,\n",
    "            cmap='viridis',\n",
    "            cbar=False\n",
    "           )\n",
    "\n",
    "plt.show();\n"
   ]
  },
  {
   "cell_type": "code",
   "execution_count": 28,
   "id": "c2cc5eb6",
   "metadata": {},
   "outputs": [
    {
     "data": {
      "text/plain": [
       "array(['N', 'Y', 'unknown', 'M', 'UNKNOWN', '2017', ' N'], dtype=object)"
      ]
     },
     "execution_count": 28,
     "metadata": {},
     "output_type": "execute_result"
    }
   ],
   "source": [
    "#una columna interesante que habria que desarrollar para nuestro fin es la de fatal\n",
    "#vamos a comprobar que contiene que no sean unknown para ver si los podemos unificar\n",
    "tiburones[\"fatal (y/n)\"].unique()\n"
   ]
  },
  {
   "cell_type": "code",
   "execution_count": 29,
   "id": "e94bdad6",
   "metadata": {},
   "outputs": [
    {
     "data": {
      "text/plain": [
       "(array(['n', 'y', 'unknown', 'm', '2017'], dtype=object), dtype('O'))"
      ]
     },
     "execution_count": 29,
     "metadata": {},
     "output_type": "execute_result"
    }
   ],
   "source": [
    "#vemos que hay algun valor que es distinto a \"n y \"y\". tambien vemos que están en mayusculas\n",
    "#vamos a pasar los valores a minusculas para unificar los valores unknown, y aprovechamos quitamos el espacio de un n\n",
    "tiburones[\"fatal (y/n)\"]= tiburones[\"fatal (y/n)\"].str.strip()\n",
    "tiburones[\"fatal (y/n)\"]= tiburones[\"fatal (y/n)\"].str.lower()\n",
    "tiburones[\"fatal (y/n)\"].unique(), tiburones[\"fatal (y/n)\"].dtypes"
   ]
  },
  {
   "cell_type": "code",
   "execution_count": 30,
   "id": "d660bc30",
   "metadata": {},
   "outputs": [
    {
     "data": {
      "text/html": [
       "<div>\n",
       "<style scoped>\n",
       "    .dataframe tbody tr th:only-of-type {\n",
       "        vertical-align: middle;\n",
       "    }\n",
       "\n",
       "    .dataframe tbody tr th {\n",
       "        vertical-align: top;\n",
       "    }\n",
       "\n",
       "    .dataframe thead th {\n",
       "        text-align: right;\n",
       "    }\n",
       "</style>\n",
       "<table border=\"1\" class=\"dataframe\">\n",
       "  <thead>\n",
       "    <tr style=\"text-align: right;\">\n",
       "      <th></th>\n",
       "      <th>case number</th>\n",
       "      <th>date</th>\n",
       "      <th>year</th>\n",
       "      <th>type</th>\n",
       "      <th>country</th>\n",
       "      <th>area</th>\n",
       "      <th>location</th>\n",
       "      <th>activity</th>\n",
       "      <th>name</th>\n",
       "      <th>sex</th>\n",
       "      <th>age</th>\n",
       "      <th>injury</th>\n",
       "      <th>fatal (y/n)</th>\n",
       "      <th>time</th>\n",
       "      <th>species</th>\n",
       "      <th>investigator or source</th>\n",
       "      <th>pdf</th>\n",
       "      <th>href formula</th>\n",
       "      <th>href</th>\n",
       "      <th>case number.1</th>\n",
       "      <th>case number.2</th>\n",
       "      <th>original order</th>\n",
       "      <th>unnamed: 22</th>\n",
       "      <th>unnamed: 23</th>\n",
       "    </tr>\n",
       "  </thead>\n",
       "  <tbody>\n",
       "    <tr>\n",
       "      <th>285</th>\n",
       "      <td>2016.04.18.b</td>\n",
       "      <td>18-Apr-2016</td>\n",
       "      <td>2016.0</td>\n",
       "      <td>Provoked</td>\n",
       "      <td>french polynesia</td>\n",
       "      <td>Tuamotos</td>\n",
       "      <td>Makemo Atoll</td>\n",
       "      <td>Spearfishing</td>\n",
       "      <td>Hoata Iotua</td>\n",
       "      <td>M</td>\n",
       "      <td>22</td>\n",
       "      <td>Laceration to knee by speared shark PROVOKED I...</td>\n",
       "      <td>m</td>\n",
       "      <td>Morning</td>\n",
       "      <td>Grey reef shark, 2 m</td>\n",
       "      <td>TNTV News, 4/19/2016</td>\n",
       "      <td>2016.04.18.b-Iotua.pdf</td>\n",
       "      <td>http://sharkattackfile.net/spreadsheets/pdf_di...</td>\n",
       "      <td>http://sharkattackfile.net/spreadsheets/pdf_di...</td>\n",
       "      <td>2016.04.18.b</td>\n",
       "      <td>2016.04.18.b</td>\n",
       "      <td>6018.0</td>\n",
       "      <td>NaN</td>\n",
       "      <td>NaN</td>\n",
       "    </tr>\n",
       "    <tr>\n",
       "      <th>786</th>\n",
       "      <td>2012.06.10</td>\n",
       "      <td>10-Jun-2012</td>\n",
       "      <td>2012.0</td>\n",
       "      <td>Provoked</td>\n",
       "      <td>italy</td>\n",
       "      <td>Sardinia</td>\n",
       "      <td>Muravera</td>\n",
       "      <td>Attempting to rescue an injured &amp; beached shark</td>\n",
       "      <td>Giorgio Zara</td>\n",
       "      <td>M</td>\n",
       "      <td>57</td>\n",
       "      <td>Lower left leg injured PROVOKED ACCIDENT</td>\n",
       "      <td>2017</td>\n",
       "      <td>Morning</td>\n",
       "      <td>Blue shark, 2.5m</td>\n",
       "      <td>D. Puddo, 6/11/2012</td>\n",
       "      <td>2012.06.10-Zara.pdf</td>\n",
       "      <td>http://sharkattackfile.net/spreadsheets/pdf_di...</td>\n",
       "      <td>http://sharkattackfile.net/spreadsheets/pdf_di...</td>\n",
       "      <td>2012.06.10</td>\n",
       "      <td>2012.06.10</td>\n",
       "      <td>5517.0</td>\n",
       "      <td>NaN</td>\n",
       "      <td>NaN</td>\n",
       "    </tr>\n",
       "  </tbody>\n",
       "</table>\n",
       "</div>"
      ],
      "text/plain": [
       "      case number         date    year      type           country      area  \\\n",
       "285  2016.04.18.b  18-Apr-2016  2016.0  Provoked  french polynesia  Tuamotos   \n",
       "786    2012.06.10  10-Jun-2012  2012.0  Provoked             italy  Sardinia   \n",
       "\n",
       "         location                                         activity  \\\n",
       "285  Makemo Atoll                                     Spearfishing   \n",
       "786      Muravera  Attempting to rescue an injured & beached shark   \n",
       "\n",
       "             name sex age                                             injury  \\\n",
       "285   Hoata Iotua   M  22  Laceration to knee by speared shark PROVOKED I...   \n",
       "786  Giorgio Zara   M  57           Lower left leg injured PROVOKED ACCIDENT   \n",
       "\n",
       "    fatal (y/n)     time               species investigator or source  \\\n",
       "285           m  Morning  Grey reef shark, 2 m   TNTV News, 4/19/2016   \n",
       "786        2017  Morning      Blue shark, 2.5m    D. Puddo, 6/11/2012   \n",
       "\n",
       "                        pdf  \\\n",
       "285  2016.04.18.b-Iotua.pdf   \n",
       "786     2012.06.10-Zara.pdf   \n",
       "\n",
       "                                          href formula  \\\n",
       "285  http://sharkattackfile.net/spreadsheets/pdf_di...   \n",
       "786  http://sharkattackfile.net/spreadsheets/pdf_di...   \n",
       "\n",
       "                                                  href case number.1  \\\n",
       "285  http://sharkattackfile.net/spreadsheets/pdf_di...  2016.04.18.b   \n",
       "786  http://sharkattackfile.net/spreadsheets/pdf_di...    2012.06.10   \n",
       "\n",
       "    case number.2  original order unnamed: 22 unnamed: 23  \n",
       "285  2016.04.18.b          6018.0         NaN         NaN  \n",
       "786    2012.06.10          5517.0         NaN         NaN  "
      ]
     },
     "execution_count": 30,
     "metadata": {},
     "output_type": "execute_result"
    }
   ],
   "source": [
    "#ahora vamos a ver que contexto tienen tanto el \"m\" como el \"2017\"\n",
    "mascara = tiburones[\"fatal (y/n)\"] == \"m\"\n",
    "nonoyes = tiburones[(tiburones[\"fatal (y/n)\"] == \"m\") | (tiburones[\"fatal (y/n)\"] == \"2017\")]\n",
    "nonoyes.head()"
   ]
  },
  {
   "cell_type": "code",
   "execution_count": 31,
   "id": "9127194d",
   "metadata": {},
   "outputs": [
    {
     "data": {
      "text/plain": [
       "array(['n', 'y', 'unknown'], dtype=object)"
      ]
     },
     "execution_count": 31,
     "metadata": {},
     "output_type": "execute_result"
    }
   ],
   "source": [
    "#comprobamos que por el contexto de la columna \"injury\", el ataque no es fatal, por lo que podemos modificarlo a \"n\"\n",
    "#df.loc[0, 'columna_especifica'] = nuevo_valor\n",
    "#df.loc[df['columna_especifica'] == valor_especifico]\n",
    "tiburones.loc[tiburones[\"fatal (y/n)\"] == \"2017\"] = \"n\" \n",
    "tiburones.loc[tiburones[\"fatal (y/n)\"] == \"m\"] = \"n\"\n",
    "tiburones[\"fatal (y/n)\"].unique()"
   ]
  },
  {
   "cell_type": "code",
   "execution_count": 32,
   "id": "e2093908",
   "metadata": {},
   "outputs": [
    {
     "data": {
      "text/plain": [
       "<bound method Series.info of 0             n\n",
       "1             n\n",
       "2             n\n",
       "3             n\n",
       "4             n\n",
       "         ...   \n",
       "5210    unknown\n",
       "5211          n\n",
       "5212          y\n",
       "5213          n\n",
       "6079          y\n",
       "Name: fatal (y/n), Length: 5191, dtype: object>"
      ]
     },
     "execution_count": 32,
     "metadata": {},
     "output_type": "execute_result"
    }
   ],
   "source": [
    "#como hemos terminado con esta columna, la convertimos a tipo string\n",
    "tiburones[\"fatal (y/n)\"] = tiburones[\"fatal (y/n)\"].astype(str)\n",
    "tiburones[\"fatal (y/n)\"].info"
   ]
  },
  {
   "cell_type": "code",
   "execution_count": 33,
   "id": "61846bed",
   "metadata": {},
   "outputs": [
    {
     "data": {
      "text/plain": [
       "n          3859\n",
       "y           861\n",
       "unknown     471\n",
       "Name: fatal (y/n), dtype: int64"
      ]
     },
     "execution_count": 33,
     "metadata": {},
     "output_type": "execute_result"
    }
   ],
   "source": [
    "#vemos que no ha cambiado, por lo que comprobamos si hay algun valor que no sea de tipo string\n",
    "tiburones[\"fatal (y/n)\"].value_counts()"
   ]
  },
  {
   "cell_type": "code",
   "execution_count": 40,
   "id": "dd499d92",
   "metadata": {},
   "outputs": [
    {
     "data": {
      "text/plain": [
       "2015.0    143\n",
       "2017.0    135\n",
       "2016.0    129\n",
       "2011.0    128\n",
       "2014.0    126\n",
       "         ... \n",
       "1927.0     19\n",
       "1924.0     19\n",
       "1945.0     16\n",
       "1925.0     14\n",
       "n           2\n",
       "Name: year, Length: 97, dtype: int64"
      ]
     },
     "execution_count": 40,
     "metadata": {},
     "output_type": "execute_result"
    }
   ],
   "source": [
    "#investigamos un poco y nos damos cuenta que no hay columnas tipo string, si no que son tipo objeto. No existen typo string para columnas\n",
    "#ahora nos centraremos en ver si podemos adelgazar columnas que puedan ser numericas\n",
    "tiburones[\"year\"].value_counts()"
   ]
  },
  {
   "cell_type": "code",
   "execution_count": 39,
   "id": "76bfb210",
   "metadata": {},
   "outputs": [
    {
     "name": "stdout",
     "output_type": "stream",
     "text": [
      "<class 'pandas.core.frame.DataFrame'>\n",
      "Int64Index: 5191 entries, 0 to 6079\n",
      "Data columns (total 24 columns):\n",
      " #   Column                  Non-Null Count  Dtype \n",
      "---  ------                  --------------  ----- \n",
      " 0   case number             5191 non-null   object\n",
      " 1   date                    5191 non-null   object\n",
      " 2   year                    5189 non-null   object\n",
      " 3   type                    5191 non-null   object\n",
      " 4   country                 5191 non-null   object\n",
      " 5   area                    5191 non-null   object\n",
      " 6   location                5191 non-null   object\n",
      " 7   activity                4796 non-null   object\n",
      " 8   name                    5191 non-null   object\n",
      " 9   sex                     5191 non-null   object\n",
      " 10  age                     3295 non-null   object\n",
      " 11  injury                  5191 non-null   object\n",
      " 12  fatal (y/n)             5191 non-null   object\n",
      " 13  time                    2773 non-null   object\n",
      " 14  species                 5191 non-null   object\n",
      " 15  investigator or source  5177 non-null   object\n",
      " 16  pdf                     5191 non-null   object\n",
      " 17  href formula            5190 non-null   object\n",
      " 18  href                    5191 non-null   object\n",
      " 19  case number.1           5191 non-null   object\n",
      " 20  case number.2           5191 non-null   object\n",
      " 21  original order          5191 non-null   object\n",
      " 22  unnamed: 22             3 non-null      object\n",
      " 23  unnamed: 23             3 non-null      object\n",
      "dtypes: object(24)\n",
      "memory usage: 8.2 MB\n"
     ]
    }
   ],
   "source": [
    "for c in tiburones.select_dtypes('float'):\n",
    "    \n",
    "    tiburones[c]=pd.to_numeric(tiburones[c], downcast='integer')\n",
    "    \n",
    "tiburones.info(memory_usage='deep')"
   ]
  },
  {
   "cell_type": "code",
   "execution_count": null,
   "id": "7bdc8e4b",
   "metadata": {},
   "outputs": [],
   "source": []
  },
  {
   "cell_type": "code",
   "execution_count": null,
   "id": "d0085b34",
   "metadata": {},
   "outputs": [],
   "source": []
  },
  {
   "cell_type": "code",
   "execution_count": null,
   "id": "57722804",
   "metadata": {},
   "outputs": [],
   "source": []
  },
  {
   "cell_type": "code",
   "execution_count": null,
   "id": "94b97549",
   "metadata": {},
   "outputs": [],
   "source": []
  },
  {
   "cell_type": "code",
   "execution_count": null,
   "id": "22b717c9",
   "metadata": {},
   "outputs": [],
   "source": []
  }
 ],
 "metadata": {
  "kernelspec": {
   "display_name": "base",
   "language": "python",
   "name": "python3"
  },
  "language_info": {
   "codemirror_mode": {
    "name": "ipython",
    "version": 3
   },
   "file_extension": ".py",
   "mimetype": "text/x-python",
   "name": "python",
   "nbconvert_exporter": "python",
   "pygments_lexer": "ipython3",
   "version": "3.9.13 (main, Aug 25 2022, 18:29:29) \n[Clang 12.0.0 ]"
  },
  "vscode": {
   "interpreter": {
    "hash": "a6d33b64cc62f2a6469a8726ef6950befbe59fb73bfa1f17dddc91d0226f47aa"
   }
  }
 },
 "nbformat": 4,
 "nbformat_minor": 5
}
